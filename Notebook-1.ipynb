{
    "metadata": {
        "kernelspec": {
            "name": "SQL",
            "display_name": "SQL",
            "language": "sql"
        },
        "language_info": {
            "name": "sql",
            "version": ""
        }
    },
    "nbformat_minor": 2,
    "nbformat": 4,
    "cells": [
        {
            "cell_type": "code",
            "source": [
                "-- QUESTION 1 Based on pricing, what are the top 25 expensive dresses available for rent and what are the the bottom 25? Who’s brand do they belong to?\r\n",
                "\r\n",
                "-- DESCENDING ORDER\r\n",
                "SELECT TOP (25) [Brand]\r\n",
                "      ,[Price]\r\n",
                "  FROM [Azure].[dbo].[dress_rental_prices]\r\n",
                "  order by [Price] DESC\r\n",
                "\r\n",
                "-- ASCENDING ORDER\r\n",
                "  SELECT TOP (25) [Brand]\r\n",
                "      ,[Price]\r\n",
                "  FROM [Azure].[dbo].[dress_rental_prices]\r\n",
                "  order by [Price] ASC"
            ],
            "metadata": {
                "azdata_cell_guid": "8813bcc4-febe-4e8d-b904-29d1ce78fa37",
                "language": "sql"
            },
            "outputs": [],
            "execution_count": null
        },
        {
            "cell_type": "code",
            "source": [
                "-- QUESTION 2 Display the least expensive dress available for rent and the most expensive dress. What is the price difference? What Brand to they belong to? \r\n",
                "SELECT [NAME], [BRAND], [PRICE]\r\n",
                "FROM [AZURE].[DBO].[dress_rental_prices]\r\n",
                "WHERE [PRICE] = (SELECT MIN([PRICE]) FROM [AZURE].[DBO].[dress_rental_prices])\r\n",
                "   OR [PRICE] = (SELECT MAX([PRICE]) FROM [AZURE].[DBO].[dress_rental_prices]);\r\n",
                ""
            ],
            "metadata": {
                "azdata_cell_guid": "6696f5bc-0dd5-47e6-9c69-2fc50c1af28b",
                "language": "sql"
            },
            "outputs": [],
            "execution_count": null
        },
        {
            "cell_type": "code",
            "source": [
                "-- QUESTION 3 What is the average price of all black dresses listed?\r\n",
                "\r\n",
                "SELECT *\r\n",
                "FROM [AZURE].[dbo].[dress_rental_prices]\r\n",
                "WHERE [COLOUR] = 'White' AND [NAME] LIKE '%wedding%';"
            ],
            "metadata": {
                "azdata_cell_guid": "52874eff-c866-470b-a98e-006b919e1420",
                "language": "sql"
            },
            "outputs": [],
            "execution_count": null
        },
        {
            "cell_type": "code",
            "source": [
                "-- QUESTION 4 Displays all dresses that are WHITE and have the word ‘WEDDING’ in their name. What brand has the most affordable white wedding dress available to rent? (SandDance Visual)\r\n",
                "\r\n",
                "SELECT *\r\n",
                "FROM [Azure].[dbo].[dress_rental_prices]\r\n",
                "WHERE [Colour] = 'White' AND [Name] LIKE '%wedding%';"
            ],
            "metadata": {
                "azdata_cell_guid": "e67deae2-946c-4e5f-8e24-8ffe958b0e28",
                "language": "sql",
                "tags": []
            },
            "outputs": [],
            "execution_count": null
        },
        {
            "cell_type": "code",
            "source": [
                "-- QUESTIION 5 Which color dress is most abundantly available in stock? And which color is least abundant?\\\r\n",
                "\r\n",
                "-- Count of all black color dresses (MOST ABUNDANT)\r\n",
                "SELECT [Colour] AS DressColor, COUNT(*) AS Count\r\n",
                "FROM [Azure].[dbo].[dress_rental_prices]\r\n",
                "WHERE [Colour] = 'Black'\r\n",
                "GROUP BY [Colour];\r\n",
                "\r\n",
                "-- Count of all phantom color dresses (LEAST ABUNDANT)\r\n",
                "SELECT [Colour] AS DressColor, COUNT(*) AS Count\r\n",
                "FROM [Azure].[dbo].[dress_rental_prices]\r\n",
                "WHERE [Colour] = 'Phantom'\r\n",
                "GROUP BY [Colour];\r\n",
                ""
            ],
            "metadata": {
                "azdata_cell_guid": "e4120a54-3b1b-4596-ab98-8311f8f33d0f",
                "language": "sql"
            },
            "outputs": [],
            "execution_count": null
        }
    ]
}